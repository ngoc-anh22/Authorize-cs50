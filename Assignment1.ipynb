{
  "nbformat": 4,
  "nbformat_minor": 0,
  "metadata": {
    "colab": {
      "provenance": [],
      "gpuType": "T4",
      "authorship_tag": "ABX9TyM92kKHGk30cuKCU3r4v5Ze",
      "include_colab_link": true
    },
    "kernelspec": {
      "name": "python3",
      "display_name": "Python 3"
    },
    "language_info": {
      "name": "python"
    },
    "accelerator": "GPU"
  },
  "cells": [
    {
      "cell_type": "markdown",
      "metadata": {
        "id": "view-in-github",
        "colab_type": "text"
      },
      "source": [
        "<a href=\"https://colab.research.google.com/github/ngoc-anh22/Authorize-cs50/blob/main/Assignment1.ipynb\" target=\"_parent\"><img src=\"https://colab.research.google.com/assets/colab-badge.svg\" alt=\"Open In Colab\"/></a>"
      ]
    },
    {
      "cell_type": "code",
      "source": [
        "!pip install torch==1.11.0+cu102 torchvision==0.12.0+cu102 torchaudio==0.11.0 --extra-index-url https://download.pytorch.org/whl/cu102"
      ],
      "metadata": {
        "colab": {
          "base_uri": "https://localhost:8080/"
        },
        "id": "IXwswhATl1vj",
        "outputId": "103a2258-ed30-467c-dfb9-031d69e27b98"
      },
      "execution_count": null,
      "outputs": [
        {
          "output_type": "stream",
          "name": "stdout",
          "text": [
            "Looking in indexes: https://pypi.org/simple, https://download.pytorch.org/whl/cu102\n",
            "Collecting torch==1.11.0+cu102\n",
            "  Downloading https://download.pytorch.org/whl/cu102/torch-1.11.0%2Bcu102-cp310-cp310-linux_x86_64.whl (750.6 MB)\n",
            "\u001b[2K     \u001b[90m━━━━━━━━━━━━━━━━━━━━━━━━━━━━━━━━━━━━━━━\u001b[0m \u001b[32m750.6/750.6 MB\u001b[0m \u001b[31m2.0 MB/s\u001b[0m eta \u001b[36m0:00:00\u001b[0m\n",
            "\u001b[?25hCollecting torchvision==0.12.0+cu102\n",
            "  Downloading https://download.pytorch.org/whl/cu102/torchvision-0.12.0%2Bcu102-cp310-cp310-linux_x86_64.whl (21.0 MB)\n",
            "\u001b[2K     \u001b[90m━━━━━━━━━━━━━━━━━━━━━━━━━━━━━━━━━━━━━━━━\u001b[0m \u001b[32m21.0/21.0 MB\u001b[0m \u001b[31m27.4 MB/s\u001b[0m eta \u001b[36m0:00:00\u001b[0m\n",
            "\u001b[?25hCollecting torchaudio==0.11.0\n",
            "  Downloading https://download.pytorch.org/whl/cu102/torchaudio-0.11.0%2Bcu102-cp310-cp310-linux_x86_64.whl (2.9 MB)\n",
            "\u001b[2K     \u001b[90m━━━━━━━━━━━━━━━━━━━━━━━━━━━━━━━━━━━━━━━━\u001b[0m \u001b[32m2.9/2.9 MB\u001b[0m \u001b[31m6.6 MB/s\u001b[0m eta \u001b[36m0:00:00\u001b[0m\n",
            "\u001b[?25hRequirement already satisfied: typing-extensions in /usr/local/lib/python3.10/dist-packages (from torch==1.11.0+cu102) (4.7.1)\n",
            "Requirement already satisfied: numpy in /usr/local/lib/python3.10/dist-packages (from torchvision==0.12.0+cu102) (1.22.4)\n",
            "Requirement already satisfied: requests in /usr/local/lib/python3.10/dist-packages (from torchvision==0.12.0+cu102) (2.27.1)\n",
            "Requirement already satisfied: pillow!=8.3.*,>=5.3.0 in /usr/local/lib/python3.10/dist-packages (from torchvision==0.12.0+cu102) (8.4.0)\n",
            "Requirement already satisfied: urllib3<1.27,>=1.21.1 in /usr/local/lib/python3.10/dist-packages (from requests->torchvision==0.12.0+cu102) (1.26.16)\n",
            "Requirement already satisfied: certifi>=2017.4.17 in /usr/local/lib/python3.10/dist-packages (from requests->torchvision==0.12.0+cu102) (2023.5.7)\n",
            "Requirement already satisfied: charset-normalizer~=2.0.0 in /usr/local/lib/python3.10/dist-packages (from requests->torchvision==0.12.0+cu102) (2.0.12)\n",
            "Requirement already satisfied: idna<4,>=2.5 in /usr/local/lib/python3.10/dist-packages (from requests->torchvision==0.12.0+cu102) (3.4)\n",
            "Installing collected packages: torch, torchvision, torchaudio\n",
            "  Attempting uninstall: torch\n",
            "    Found existing installation: torch 2.0.1+cu118\n",
            "    Uninstalling torch-2.0.1+cu118:\n",
            "      Successfully uninstalled torch-2.0.1+cu118\n",
            "  Attempting uninstall: torchvision\n",
            "    Found existing installation: torchvision 0.15.2+cu118\n",
            "    Uninstalling torchvision-0.15.2+cu118:\n",
            "      Successfully uninstalled torchvision-0.15.2+cu118\n",
            "  Attempting uninstall: torchaudio\n",
            "    Found existing installation: torchaudio 2.0.2+cu118\n",
            "    Uninstalling torchaudio-2.0.2+cu118:\n",
            "      Successfully uninstalled torchaudio-2.0.2+cu118\n",
            "\u001b[31mERROR: pip's dependency resolver does not currently take into account all the packages that are installed. This behaviour is the source of the following dependency conflicts.\n",
            "torchdata 0.6.1 requires torch==2.0.1, but you have torch 1.11.0+cu102 which is incompatible.\n",
            "torchtext 0.15.2 requires torch==2.0.1, but you have torch 1.11.0+cu102 which is incompatible.\u001b[0m\u001b[31m\n",
            "\u001b[0mSuccessfully installed torch-1.11.0+cu102 torchaudio-0.11.0+cu102 torchvision-0.12.0+cu102\n"
          ]
        }
      ]
    },
    {
      "cell_type": "code",
      "source": [
        "import torch\n",
        "import numpy as np\n",
        "from torchvision import datasets\n",
        "\n",
        "trainset = datasets.MNIST(root ='./ data ', train =True, download = True)\n",
        "testset = datasets.MNIST(root ='./ data ', train =False, download = True)"
      ],
      "metadata": {
        "id": "ktgvkvqQqQVm",
        "colab": {
          "base_uri": "https://localhost:8080/"
        },
        "outputId": "d8476467-6e7c-4766-db84-a8772f7eed00"
      },
      "execution_count": 1,
      "outputs": [
        {
          "output_type": "stream",
          "name": "stdout",
          "text": [
            "Downloading http://yann.lecun.com/exdb/mnist/train-images-idx3-ubyte.gz\n",
            "Downloading http://yann.lecun.com/exdb/mnist/train-images-idx3-ubyte.gz to ./ data /MNIST/raw/train-images-idx3-ubyte.gz\n"
          ]
        },
        {
          "output_type": "stream",
          "name": "stderr",
          "text": [
            "100%|██████████| 9912422/9912422 [00:00<00:00, 198030499.48it/s]"
          ]
        },
        {
          "output_type": "stream",
          "name": "stdout",
          "text": [
            "Extracting ./ data /MNIST/raw/train-images-idx3-ubyte.gz to ./ data /MNIST/raw\n"
          ]
        },
        {
          "output_type": "stream",
          "name": "stderr",
          "text": [
            "\n"
          ]
        },
        {
          "output_type": "stream",
          "name": "stdout",
          "text": [
            "\n",
            "Downloading http://yann.lecun.com/exdb/mnist/train-labels-idx1-ubyte.gz\n",
            "Downloading http://yann.lecun.com/exdb/mnist/train-labels-idx1-ubyte.gz to ./ data /MNIST/raw/train-labels-idx1-ubyte.gz\n"
          ]
        },
        {
          "output_type": "stream",
          "name": "stderr",
          "text": [
            "100%|██████████| 28881/28881 [00:00<00:00, 112162679.47it/s]\n"
          ]
        },
        {
          "output_type": "stream",
          "name": "stdout",
          "text": [
            "Extracting ./ data /MNIST/raw/train-labels-idx1-ubyte.gz to ./ data /MNIST/raw\n",
            "\n",
            "Downloading http://yann.lecun.com/exdb/mnist/t10k-images-idx3-ubyte.gz\n",
            "Downloading http://yann.lecun.com/exdb/mnist/t10k-images-idx3-ubyte.gz to ./ data /MNIST/raw/t10k-images-idx3-ubyte.gz\n"
          ]
        },
        {
          "output_type": "stream",
          "name": "stderr",
          "text": [
            "100%|██████████| 1648877/1648877 [00:00<00:00, 23626867.94it/s]\n"
          ]
        },
        {
          "output_type": "stream",
          "name": "stdout",
          "text": [
            "Extracting ./ data /MNIST/raw/t10k-images-idx3-ubyte.gz to ./ data /MNIST/raw\n",
            "\n",
            "Downloading http://yann.lecun.com/exdb/mnist/t10k-labels-idx1-ubyte.gz\n",
            "Downloading http://yann.lecun.com/exdb/mnist/t10k-labels-idx1-ubyte.gz to ./ data /MNIST/raw/t10k-labels-idx1-ubyte.gz\n"
          ]
        },
        {
          "output_type": "stream",
          "name": "stderr",
          "text": [
            "100%|██████████| 4542/4542 [00:00<00:00, 17754453.65it/s]\n"
          ]
        },
        {
          "output_type": "stream",
          "name": "stdout",
          "text": [
            "Extracting ./ data /MNIST/raw/t10k-labels-idx1-ubyte.gz to ./ data /MNIST/raw\n",
            "\n"
          ]
        }
      ]
    },
    {
      "cell_type": "code",
      "source": [
        "# Indices for train /val splits: train_idx, valid_idx\n",
        "np.random.seed(0)\n",
        "val_ratio = 0.1\n",
        "train_size = len(trainset)\n",
        "indices = list (range(train_size ))\n",
        "split_idx = int(np.floor(val_ratio * train_size))\n",
        "\n",
        "np.random.shuffle(indices)\n",
        "train_idx, val_idx = indices[split_idx:], indices[:split_idx]\n",
        "train_data = trainset.data[train_idx].float()/255.\n",
        "train_labels = trainset.targets[train_idx]\n",
        "val_data = trainset.data[val_idx].float()/255.\n",
        "val_labels = trainset.targets[val_idx]\n",
        "test_data = testset.data.float()/255.\n",
        "test_labels = testset.targets"
      ],
      "metadata": {
        "id": "sRBdHU--egbe"
      },
      "execution_count": 2,
      "outputs": []
    },
    {
      "cell_type": "markdown",
      "source": [
        "# **Training and validation code**"
      ],
      "metadata": {
        "id": "Yjok2nXb7o-v"
      }
    },
    {
      "cell_type": "code",
      "source": [
        "train_data_flatten = torch.flatten(train_data, start_dim= 1)\n",
        "val_data_flatten = torch.flatten(val_data, start_dim = 1)\n",
        "test_data_flatten = torch.flatten(test_data, start_dim = 1)"
      ],
      "metadata": {
        "id": "fCzv_wD0KtQ5"
      },
      "execution_count": 3,
      "outputs": []
    },
    {
      "cell_type": "code",
      "source": [
        "p = 1\n",
        "distances = torch.cdist(val_data_flatten,train_data_flatten, p)\n",
        "for k in range (5, 20):\n",
        "  top_values, top_indices = torch.topk(distances, k = k, dim = 1, largest = False)\n",
        "  train_labels[top_indices]\n",
        "  mode, count = torch.mode(train_labels[top_indices])\n",
        "  val_pred = mode\n",
        "  val_pred == val_labels\n",
        "  num_true = torch.sum(val_pred == val_labels)\n",
        "  val_acc = (num_true / val_data.shape[0])\n",
        "  print(\"p: {:<10} k: {:<10} val_acc: {:.4f}\".format(p, k, round(val_acc.item(), 4)))"
      ],
      "metadata": {
        "colab": {
          "base_uri": "https://localhost:8080/"
        },
        "id": "YqrooD4XSqbj",
        "outputId": "4063c430-fa6d-4ef9-c614-f39ec36dab06"
      },
      "execution_count": null,
      "outputs": [
        {
          "output_type": "stream",
          "name": "stdout",
          "text": [
            "p: 1          k: 5          val_acc: 0.9647\n",
            "p: 1          k: 6          val_acc: 0.9643\n",
            "p: 1          k: 7          val_acc: 0.9660\n",
            "p: 1          k: 8          val_acc: 0.9642\n",
            "p: 1          k: 9          val_acc: 0.9637\n",
            "p: 1          k: 10         val_acc: 0.9625\n",
            "p: 1          k: 11         val_acc: 0.9630\n",
            "p: 1          k: 12         val_acc: 0.9612\n",
            "p: 1          k: 13         val_acc: 0.9617\n",
            "p: 1          k: 14         val_acc: 0.9605\n",
            "p: 1          k: 15         val_acc: 0.9612\n",
            "p: 1          k: 16         val_acc: 0.9613\n",
            "p: 1          k: 17         val_acc: 0.9607\n",
            "p: 1          k: 18         val_acc: 0.9602\n",
            "p: 1          k: 19         val_acc: 0.9585\n"
          ]
        }
      ]
    },
    {
      "cell_type": "code",
      "source": [
        "p = 2\n",
        "distances = torch.cdist(val_data_flatten,train_data_flatten, p)\n",
        "for k in range (5, 20):\n",
        "  top_values, top_indices = torch.topk(distances, k = k, dim = 1, largest = False)\n",
        "  train_labels[top_indices]\n",
        "  mode, count = torch.mode(train_labels[top_indices])\n",
        "  val_pred = mode\n",
        "  val_pred == val_labels\n",
        "  num_true = torch.sum(val_pred == val_labels)\n",
        "  val_acc = (num_true / val_data.shape[0])\n",
        "  print(\"p: {:<10} k: {:<10} val_acc: {:.4f}\".format(p, k, round(val_acc.item(), 4)))"
      ],
      "metadata": {
        "colab": {
          "base_uri": "https://localhost:8080/"
        },
        "id": "dB4RDri2zC2p",
        "outputId": "5b736e3e-d243-48b1-9bc7-e109cd4b9f38"
      },
      "execution_count": null,
      "outputs": [
        {
          "output_type": "stream",
          "name": "stdout",
          "text": [
            "p: 2          k: 5          val_acc: 0.9727\n",
            "p: 2          k: 6          val_acc: 0.9727\n",
            "p: 2          k: 7          val_acc: 0.9723\n",
            "p: 2          k: 8          val_acc: 0.9720\n",
            "p: 2          k: 9          val_acc: 0.9712\n",
            "p: 2          k: 10         val_acc: 0.9700\n",
            "p: 2          k: 11         val_acc: 0.9702\n",
            "p: 2          k: 12         val_acc: 0.9690\n",
            "p: 2          k: 13         val_acc: 0.9687\n",
            "p: 2          k: 14         val_acc: 0.9685\n",
            "p: 2          k: 15         val_acc: 0.9683\n",
            "p: 2          k: 16         val_acc: 0.9687\n",
            "p: 2          k: 17         val_acc: 0.9673\n",
            "p: 2          k: 18         val_acc: 0.9663\n",
            "p: 2          k: 19         val_acc: 0.9658\n"
          ]
        }
      ]
    },
    {
      "cell_type": "markdown",
      "source": [
        "## **Evaluation code of the test set**"
      ],
      "metadata": {
        "id": "IzoLkwWk7yVC"
      }
    },
    {
      "cell_type": "code",
      "source": [
        "best_k = 5\n",
        "best_p = 2"
      ],
      "metadata": {
        "id": "McVSUVP4fGRG"
      },
      "execution_count": null,
      "outputs": []
    },
    {
      "cell_type": "code",
      "source": [
        "distances = torch.cdist(test_data_flatten,train_data_flatten, p = best_p)\n",
        "top_values, top_indices = torch.topk(distances, k = best_k, dim = 1, largest = False)\n",
        "train_labels[top_indices]\n",
        "mode, count = torch.mode(train_labels[top_indices])\n",
        "test_pred = mode\n",
        "test_pred == test_labels\n",
        "num_true = torch.sum(test_pred == test_labels)\n",
        "test_acc = num_true / test_data.shape[0]\n",
        "print(\"p: {:<10} k: {:<10} test_acc: {:.4f}\".format(best_p, best_k, round(test_acc.item(), 4)))"
      ],
      "metadata": {
        "colab": {
          "base_uri": "https://localhost:8080/"
        },
        "id": "b6l2iSmCeJvw",
        "outputId": "cd1647d7-a1d3-48cc-82df-33beacb109a9"
      },
      "execution_count": null,
      "outputs": [
        {
          "output_type": "stream",
          "name": "stdout",
          "text": [
            "p: 2          k: 5          test_acc: 0.9666\n"
          ]
        }
      ]
    }
  ]
}